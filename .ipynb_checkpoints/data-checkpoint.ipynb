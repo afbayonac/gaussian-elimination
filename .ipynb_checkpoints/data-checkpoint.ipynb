{
 "cells": [
  {
   "cell_type": "code",
   "execution_count": 120,
   "metadata": {
    "collapsed": false
   },
   "outputs": [],
   "source": [
    "import numpy as np\n",
    "import matplotlib.pyplot as plt\n",
    "import re"
   ]
  },
  {
   "cell_type": "code",
   "execution_count": 150,
   "metadata": {
    "collapsed": false
   },
   "outputs": [],
   "source": [
    "# READ FILE output serial\n",
    "fname = './serial/salida'\n",
    "with open(fname) as f:\n",
    "    content = f.readlines()\n",
    "    content = [x.rstrip() for x in content] \n",
    "\n",
    "#print( content)"
   ]
  },
  {
   "cell_type": "code",
   "execution_count": 172,
   "metadata": {
    "collapsed": false
   },
   "outputs": [
    {
     "name": "stdout",
     "output_type": "stream",
     "text": [
      "[2.9597282409667969, 17.730951309204102, 59.851090113321938, 141.58058166503906, 277.3713270823161, 488.98132642110187, 763.96441459655762, 1150.73569615682, 1672.0983982086184, 2258.0334345499673, 2986.3746166229248, 3859.8350683848062, 5187.421639760335, 6215.9270445505781, 7553.2809098561602, 9295.5499490102138, 11116.53463045756, 13366.223017374674, 15962.608416875204, 17481.754302978516, 19184.034109115601, 22284.777323404949, 25094.080766042072, 28861.433744430542, 32285.145680109661, 36015.653292338051, 40679.833332697548, 45312.026659647621, 50884.417057037354, 55896.622021993004]\n"
     ]
    }
   ],
   "source": [
    "serial = np.array([x for i, x in enumerate(content) if not (i % 4 == 0)])\n",
    "serial = serial.astype(np.double)\n",
    "#print(serial.shape)\n",
    "serial = serial.reshape((30,3))\n",
    "#print(serial)\n",
    "serial = [ x.sum()/3 for x in serial] \n",
    "print(serial)"
   ]
  },
  {
   "cell_type": "code",
   "execution_count": 173,
   "metadata": {
    "collapsed": false
   },
   "outputs": [
    {
     "data": {
      "image/png": "[encoded data removed]",
      "text/plain": [
       "<matplotlib.figure.Figure at 0x7fb0a01180f0>"
      ]
     },
     "metadata": {},
     "output_type": "display_data"
    }
   ],
   "source": [
    "area = np.pi * (15 * np.random.rand(N))**2  # 0 to 15 point radii\n",
    "plt.scatter([x for x in range(100,3100,100)], serial,  alpha=0.5)\n",
    "plt.show()"
   ]
  },
  {
   "cell_type": "code",
   "execution_count": 174,
   "metadata": {
    "collapsed": false
   },
   "outputs": [
    {
     "name": "stdout",
     "output_type": "stream",
     "text": [
      "['n=100 hilos=2', '3.831148147583008', '2.69007682800293', '2.357959747314453', 'n=200 hilos=2', '18.77284049987793', '17.3029899597168', '17.11702346801758', 'n=300 hilos=2', '59.66711044311523', '59.53216552734375', '60.35399436950684', 'n=400 hilos=2', '143.9008712768555', '138.8249397277832', '142.0159339904785', 'n=500 hilos=2', '277.177095413208', '277.64892578125', '277.2879600524902', 'n=600 hilos=2', '489.3438816070557', '478.499174118042', '499.100923538208', 'n=700 hilos=2', '755.8469772338867', '775.1331329345703', '760.9131336212158', 'n=800 hilos=2', '1154.237031936646', '1145.025968551636', '1152.944087982178', 'n=900 hilos=2', '1645.391941070557', '1631.331205368042', '1739.572048187256', 'n=1000 hilos=2', '2272.949934005737', '2248.231172561646', '2252.91919708252', 'n=1100 hilos=2', '2987.128019332886', '3013.658046722412', '2958.337783813477', 'n=1200 hilos=2', '3827.26001739502', '3877.217054367065', '3875.028133392334', 'n=1300 hilos=2', '5040.154933929443', '5291.415929794312', '5230.694055557251', 'n=1400 hilos=2', '6271.384000778198', '6163.284063339233', '6213.113069534302', 'n=1500 hilos=2', '7624.41086769104', '7532.119989395142', '7503.3118724823', 'n=1600 hilos=2', '9217.128038406372', '9240.39888381958', '9429.122924804688', 'n=1700 hilos=2', '11001.14297866821', '11316.47300720215', '11031.98790550232', 'n=1800 hilos=2', '13108.70504379272', '13197.5040435791', '13792.4599647522', 'n=1900 hilos=2', '15780.97414970398', '16189.37706947327', '15917.47403144836', 'n=2000 hilos=2', '17853.19876670837', '17315.29498100281', '17276.76916122437', 'n=2100 hilos=2', '19047.90616035461', '19182.10005760193', '19322.09610939026', 'n=2200 hilos=2', '22090.95501899719', '22371.4280128479', '22391.94893836975', 'n=2300 hilos=2', '25148.91815185547', '25111.38010025024', '25021.94404602051', 'n=2400 hilos=2', '28790.55619239807', '29203.38010787964', '28590.36493301392', 'n=2500 hilos=2', '32762.44807243347', '32074.40996170044', '32018.57900619507', 'n=2600 hilos=2', '35974.50804710388', '35983.51693153381', '36088.93489837646', 'n=2700 hilos=2', '40447.04103469849', '40418.39289665222', '41174.06606674194', 'n=2800 hilos=2', '45631.73699378967', '45009.98902320862', '45294.35396194458', 'n=2900 hilos=2', '51484.07506942749', '51060.26315689087', '50108.9129447937', 'n=3000 hilos=2', '55884.58299636841', '56080.5869102478', '55724.69615936279']\n"
     ]
    }
   ],
   "source": [
    "# READ FILE output serial\n",
    "fname = './parallel/salida_2'\n",
    "with open(fname) as f:\n",
    "    content = f.readlines()\n",
    "    content = [x.rstrip() for x in content] \n",
    "\n",
    "#print( content)"
   ]
  },
  {
   "cell_type": "code",
   "execution_count": 175,
   "metadata": {
    "collapsed": false
   },
   "outputs": [
    {
     "name": "stdout",
     "output_type": "stream",
     "text": [
      "[2.9597282409667969, 17.730951309204102, 59.851090113321938, 141.58058166503906, 277.3713270823161, 488.98132642110187, 763.96441459655762, 1150.73569615682, 1672.0983982086184, 2258.0334345499673, 2986.3746166229248, 3859.8350683848062, 5187.421639760335, 6215.9270445505781, 7553.2809098561602, 9295.5499490102138, 11116.53463045756, 13366.223017374674, 15962.608416875204, 17481.754302978516, 19184.034109115601, 22284.777323404949, 25094.080766042072, 28861.433744430542, 32285.145680109661, 36015.653292338051, 40679.833332697548, 45312.026659647621, 50884.417057037354, 55896.622021993004]\n"
     ]
    }
   ],
   "source": [
    "parallel_2 = np.array([x for i, x in enumerate(content) if not (i % 4 == 0)])\n",
    "parallel_2 = parallel_2.astype(np.double)\n",
    "#print(serial.shape)\n",
    "parallel_2 = parallel_2.reshape((30,3))\n",
    "#print(serial)\n",
    "parallel_2 = [ x.sum()/3 for x in parallel_2] \n",
    "print(parallel_2)"
   ]
  },
  {
   "cell_type": "code",
   "execution_count": 176,
   "metadata": {
    "collapsed": false
   },
   "outputs": [
    {
     "data": {
      "image/png": "[encoded data removed]",
      "text/plain": [
       "<matplotlib.figure.Figure at 0x7fb0a006b5f8>"
      ]
     },
     "metadata": {},
     "output_type": "display_data"
    }
   ],
   "source": [
    "plt.scatter([x for x in range(100,3100,100)], parallel_2,  alpha=0.5)\n",
    "plt.show()"
   ]
  },
  {
   "cell_type": "code",
   "execution_count": null,
   "metadata": {
    "collapsed": true
   },
   "outputs": [],
   "source": []
  }
 ],
 "metadata": {
  "kernelspec": {
   "display_name": "Python 3",
   "language": "python",
   "name": "python3"
  },
  "language_info": {
   "codemirror_mode": {
    "name": "ipython",
    "version": 3
   },
   "file_extension": ".py",
   "mimetype": "text/x-python",
   "name": "python",
   "nbconvert_exporter": "python",
   "pygments_lexer": "ipython3",
   "version": "3.6.0"
  }
 },
 "nbformat": 4,
 "nbformat_minor": 2
}
